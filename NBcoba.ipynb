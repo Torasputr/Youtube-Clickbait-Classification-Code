{
  "nbformat": 4,
  "nbformat_minor": 0,
  "metadata": {
    "colab": {
      "provenance": []
    },
    "kernelspec": {
      "name": "python3",
      "display_name": "Python 3"
    },
    "language_info": {
      "name": "python"
    }
  },
  "cells": [
    {
      "cell_type": "code",
      "execution_count": null,
      "metadata": {
        "id": "UVHsBdEScQVp"
      },
      "outputs": [],
      "source": [
        "from google.colab import drive\n",
        "import pandas as pd\n",
        "import nltk\n",
        "from nltk.corpus import stopwords\n",
        "from sklearn.preprocessing import LabelEncoder\n",
        "from sklearn.feature_extraction.text import CountVectorizer\n",
        "from sklearn.feature_extraction.text import TfidfVectorizer\n",
        "from sklearn.model_selection import train_test_split\n",
        "import random\n",
        "from sklearn.naive_bayes import BernoulliNB\n",
        "from sklearn.naive_bayes import MultinomialNB\n",
        "from sklearn.metrics import accuracy_score, precision_score, recall_score, f1_score\n",
        "from sklearn.metrics import classification_report\n",
        "from sklearn.metrics import confusion_matrix\n",
        "import matplotlib.pyplot as plt"
      ]
    },
    {
      "cell_type": "code",
      "source": [
        "drive.mount(('/content/drive'))\n",
        "path = '/content/drive/MyDrive/Dataset Research Method/clickbait.csv'\n",
        "df = pd.read_csv(path)"
      ],
      "metadata": {
        "colab": {
          "base_uri": "https://localhost:8080/"
        },
        "id": "mRpft9pHcYK2",
        "outputId": "58d7cda1-454c-4a36-8d00-8bbcf66b9ffa"
      },
      "execution_count": null,
      "outputs": [
        {
          "output_type": "stream",
          "name": "stdout",
          "text": [
            "Mounted at /content/drive\n"
          ]
        }
      ]
    },
    {
      "cell_type": "code",
      "source": [
        "nltk.download(\"stopwords\")\n",
        "stop = stopwords.words('english')"
      ],
      "metadata": {
        "colab": {
          "base_uri": "https://localhost:8080/"
        },
        "id": "KPU0xWsWccxh",
        "outputId": "7e1eeb4b-a659-4092-c0e9-665d94dd462d"
      },
      "execution_count": null,
      "outputs": [
        {
          "output_type": "stream",
          "name": "stderr",
          "text": [
            "[nltk_data] Downloading package stopwords to /root/nltk_data...\n",
            "[nltk_data]   Unzipping corpora/stopwords.zip.\n"
          ]
        }
      ]
    },
    {
      "cell_type": "code",
      "source": [
        "df['title_without_stopwords'] = df['title'].apply(lambda x: ' '.join([word for word in x.split() if word not in(stop)]))"
      ],
      "metadata": {
        "id": "qeZN7-O2ciqh"
      },
      "execution_count": null,
      "outputs": []
    },
    {
      "cell_type": "code",
      "source": [
        "le = LabelEncoder()\n",
        "le.fit(df['label'])\n",
        "df['label_encoded'] = le.transform(df['label'])"
      ],
      "metadata": {
        "id": "n9CLhu5FclCS"
      },
      "execution_count": null,
      "outputs": []
    },
    {
      "cell_type": "code",
      "source": [
        "title = df.title_without_stopwords\n",
        "y = df.label_encoded"
      ],
      "metadata": {
        "id": "-jNG5qFacojo"
      },
      "execution_count": null,
      "outputs": []
    },
    {
      "cell_type": "code",
      "source": [
        "bow = CountVectorizer()\n",
        "x_bow = bow.fit_transform(title)\n",
        "x_bow.shape\n",
        "x_bow.toarray()"
      ],
      "metadata": {
        "colab": {
          "base_uri": "https://localhost:8080/"
        },
        "id": "KhPIQ8vmdBLC",
        "outputId": "06fc9970-ea5c-4ca2-fb2e-621d4825101f"
      },
      "execution_count": null,
      "outputs": [
        {
          "output_type": "execute_result",
          "data": {
            "text/plain": [
              "array([[0, 0, 0, ..., 0, 0, 0],\n",
              "       [0, 0, 0, ..., 0, 0, 0],\n",
              "       [0, 0, 0, ..., 0, 0, 0],\n",
              "       ...,\n",
              "       [0, 0, 0, ..., 0, 0, 0],\n",
              "       [0, 0, 0, ..., 0, 0, 0],\n",
              "       [0, 0, 0, ..., 0, 0, 0]])"
            ]
          },
          "metadata": {},
          "execution_count": 9
        }
      ]
    },
    {
      "cell_type": "code",
      "source": [
        "tfidf = TfidfVectorizer()\n",
        "x_tfidf = tfidf.fit_transform(title)\n",
        "x_tfidf.toarray()"
      ],
      "metadata": {
        "colab": {
          "base_uri": "https://localhost:8080/"
        },
        "id": "TYSpcWr5dD8z",
        "outputId": "a92379f5-3419-432e-b323-0535aaadede9"
      },
      "execution_count": null,
      "outputs": [
        {
          "output_type": "execute_result",
          "data": {
            "text/plain": [
              "array([[0., 0., 0., ..., 0., 0., 0.],\n",
              "       [0., 0., 0., ..., 0., 0., 0.],\n",
              "       [0., 0., 0., ..., 0., 0., 0.],\n",
              "       ...,\n",
              "       [0., 0., 0., ..., 0., 0., 0.],\n",
              "       [0., 0., 0., ..., 0., 0., 0.],\n",
              "       [0., 0., 0., ..., 0., 0., 0.]])"
            ]
          },
          "metadata": {},
          "execution_count": 10
        }
      ]
    },
    {
      "cell_type": "code",
      "source": [
        "x_bow_train, x_bow_test, y_bow_train, y_bow_test = train_test_split(x_bow, y, test_size = 0.2, random_state = 42)\n",
        "x_bow_test, x_bow_val, y_bow_test, y_bow_val = train_test_split(x_bow_test, y_bow_test, test_size = 0.5, random_state = 42)\n",
        "x_tfidf_train, x_tfidf_test, y_tfidf_train, y_tfidf_test = train_test_split(x_tfidf, y, test_size = 0.2, random_state = 42)\n",
        "x_tfidf_test, x_tfidf_val, y_tfidf_test, y_tfidf_val = train_test_split(x_tfidf_test, y_tfidf_test, test_size = 0.5, random_state = 42)"
      ],
      "metadata": {
        "id": "ONJaCIhNdF4D"
      },
      "execution_count": null,
      "outputs": []
    },
    {
      "cell_type": "code",
      "source": [
        "clf = BernoulliNB()"
      ],
      "metadata": {
        "id": "1JeN7HxseIua"
      },
      "execution_count": null,
      "outputs": []
    },
    {
      "cell_type": "code",
      "source": [
        "\n",
        "clf.fit(x_bow_train, y_bow_train)\n",
        "y_bow_val_pred = clf.predict(x_bow_val)\n",
        "accuracy_bow_val = accuracy_score(y_bow_val, y_bow_val_pred)\n",
        "precision_bow_val = precision_score(y_bow_val, y_bow_val_pred)\n",
        "recall_bow_val = recall_score(y_bow_val, y_bow_val_pred)\n",
        "f1_bow_val = f1_score(y_bow_val, y_bow_val_pred)\n",
        "print(\"BoW Val\")\n",
        "print(\"Accuracy:\", accuracy_bow_val)\n",
        "print(\"Precision:\", precision_bow_val)\n",
        "print(\"Recall:\", recall_bow_val)\n",
        "print(\"F1 score:\", f1_bow_val)\n",
        "y_bow_test_pred = clf.predict(x_bow_test)\n",
        "accuracy_bow_test = accuracy_score(y_bow_test, y_bow_test_pred)\n",
        "precision_bow_test = precision_score(y_bow_test, y_bow_test_pred)\n",
        "recall_bow_test = recall_score(y_bow_test, y_bow_test_pred)\n",
        "f1_bow_test = f1_score(y_bow_test, y_bow_test_pred)\n",
        "print(\"BoW Test\")\n",
        "print(\"Accuracy:\", accuracy_bow_test)\n",
        "print(\"Precision:\", precision_bow_test)\n",
        "print(\"Recall:\", recall_bow_test)\n",
        "print(\"F1 score:\", f1_bow_test)"
      ],
      "metadata": {
        "colab": {
          "base_uri": "https://localhost:8080/"
        },
        "id": "KvZUuaUZuG_y",
        "outputId": "8be2d766-cba6-4cd7-95ee-99d276c7e460"
      },
      "execution_count": null,
      "outputs": [
        {
          "output_type": "stream",
          "name": "stdout",
          "text": [
            "BoW Val\n",
            "Accuracy: 0.9818693341669271\n",
            "Precision: 0.9749235474006116\n",
            "Recall: 0.9894475481067659\n",
            "F1 score: 0.982131854590265\n",
            "BoW Test\n",
            "Accuracy: 0.9812441387933729\n",
            "Precision: 0.9712713936430318\n",
            "Recall: 0.9918851435705368\n",
            "F1 score: 0.9814700432365657\n"
          ]
        }
      ]
    },
    {
      "cell_type": "code",
      "source": [
        "cm_bow = confusion_matrix(y_bow_test, y_bow_test_pred)\n",
        "plt.imshow(cm_bow, cmap = plt.cm.gray)\n",
        "plt.title(\"Confusion Matrix for BoW Bernoulli\")\n",
        "plt.colorbar()\n",
        "plt.xlabel(\"Prediction Data\")\n",
        "plt.xlabel(\"Test Data\")\n",
        "print(cm_bow)"
      ],
      "metadata": {
        "id": "n1Fk47B-rukC"
      },
      "execution_count": null,
      "outputs": []
    },
    {
      "cell_type": "code",
      "source": [
        "target = ('0', '1')\n",
        "print(classification_report(y_bow_test, y_bow_test_pred, target_names=target, digits = 5))"
      ],
      "metadata": {
        "id": "t-7H9cRxt4YC"
      },
      "execution_count": null,
      "outputs": []
    },
    {
      "cell_type": "code",
      "source": [
        "\n",
        "clf.fit(x_tfidf_train, y_tfidf_train)\n",
        "y_tfidf_val_pred = clf.predict(x_tfidf_val)\n",
        "accuracy_tfidf_val = accuracy_score(y_tfidf_val, y_tfidf_val_pred)\n",
        "precision_tfidf_val = precision_score(y_tfidf_val, y_tfidf_val_pred)\n",
        "recall_tfidf_val = recall_score(y_tfidf_val, y_tfidf_val_pred)\n",
        "f1_tfidf_val = f1_score(y_tfidf_val, y_tfidf_val_pred)\n",
        "print(\"TFIDF Val\")\n",
        "print(\"Accuracy:\", accuracy_tfidf_val)\n",
        "print(\"Precision:\", precision_tfidf_val)\n",
        "print(\"Recall:\", recall_tfidf_val)\n",
        "print(\"F1 score:\", f1_tfidf_val)\n",
        "y_tfidf_test_pred = clf.predict(x_tfidf_test)\n",
        "accuracy_tfidf_test = accuracy_score(y_tfidf_test, y_tfidf_test_pred)\n",
        "precision_tfidf_test = precision_score(y_tfidf_test, y_tfidf_test_pred)\n",
        "recall_tfidf_test = recall_score(y_tfidf_test, y_tfidf_test_pred)\n",
        "f1_tfidf_test = f1_score(y_tfidf_test, y_tfidf_test_pred)\n",
        "print(\"TFIDF Val\")\n",
        "print(\"Accuracy:\", accuracy_tfidf_test)\n",
        "print(\"Precision:\", precision_tfidf_test)\n",
        "print(\"Recall:\", recall_tfidf_test)\n",
        "print(\"F1 score:\", f1_tfidf_test)"
      ],
      "metadata": {
        "id": "WTd2O9B5uEYU"
      },
      "execution_count": null,
      "outputs": []
    },
    {
      "cell_type": "code",
      "source": [
        "cm_tfidf = confusion_matrix(y_tfidf_test, y_tfidf_test_pred)\n",
        "plt.imshow(cm_tfidf, cmap = plt.cm.gray)\n",
        "plt.title(\"Confusion Matrix for TFIDF Bernoulli\")\n",
        "plt.colorbar()\n",
        "plt.xlabel(\"Prediction Data\")\n",
        "plt.xlabel(\"Test Data\")\n",
        "print(cm_tfidf)"
      ],
      "metadata": {
        "id": "UwO20wa2usw0"
      },
      "execution_count": null,
      "outputs": []
    },
    {
      "cell_type": "code",
      "source": [
        "target = ('0', '1')\n",
        "print(classification_report(y_bow_test, y_bow_test_pred, target_names=target, digits = 5))"
      ],
      "metadata": {
        "id": "QARVU_Vwuy-r"
      },
      "execution_count": null,
      "outputs": []
    },
    {
      "cell_type": "code",
      "source": [
        "clf2 = MultinomialNB()"
      ],
      "metadata": {
        "id": "wbCbMxgbGdmW"
      },
      "execution_count": null,
      "outputs": []
    },
    {
      "cell_type": "code",
      "source": [
        "\n",
        "clf2.fit(x_bow_train, y_bow_train)\n",
        "y_bow_val_pred = clf2.predict(x_bow_val)\n",
        "accuracy_bow_val = accuracy_score(y_bow_val, y_bow_val_pred)\n",
        "precision_bow_val = precision_score(y_bow_val, y_bow_val_pred)\n",
        "recall_bow_val = recall_score(y_bow_val, y_bow_val_pred)\n",
        "f1_bow_val = f1_score(y_bow_val, y_bow_val_pred)\n",
        "print(\"BoW Val\")\n",
        "print(\"Accuracy:\", accuracy_bow_val)\n",
        "print(\"Precision:\", precision_bow_val)\n",
        "print(\"Recall:\", recall_bow_val)\n",
        "print(\"F1 score:\", f1_bow_val)\n",
        "y_bow_test_pred = clf2.predict(x_bow_test)\n",
        "accuracy_bow_test = accuracy_score(y_bow_test, y_bow_test_pred)\n",
        "precision_bow_test = precision_score(y_bow_test, y_bow_test_pred)\n",
        "recall_bow_test = recall_score(y_bow_test, y_bow_test_pred)\n",
        "f1_bow_test = f1_score(y_bow_test, y_bow_test_pred)\n",
        "print(\"BoW Test\")\n",
        "print(\"Accuracy:\", accuracy_bow_test)\n",
        "print(\"Precision:\", precision_bow_test)\n",
        "print(\"Recall:\", recall_bow_test)\n",
        "print(\"F1 score:\", f1_bow_test)"
      ],
      "metadata": {
        "id": "OnS0HsqaGe0_"
      },
      "execution_count": null,
      "outputs": []
    }
  ]
}